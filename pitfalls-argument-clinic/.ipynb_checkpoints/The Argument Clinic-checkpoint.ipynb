{
 "metadata": {
  "name": "",
  "signature": "sha256:1d9e9795c39d24fb5ff40f16ee2c9c3c03acdbcda6a3743f1b4cb414e548ca0b"
 },
 "nbformat": 3,
 "nbformat_minor": 0,
 "worksheets": [
  {
   "cells": [
    {
     "cell_type": "markdown",
     "metadata": {},
     "source": [
      "# The argument clinic: \"call by reference\" or \"call by value\"? <img src=\"argument-clinic.png\" style=\"margin-top: 1em; margin-bottom: 3em;\"/>"
     ]
    },
    {
     "cell_type": "markdown",
     "metadata": {},
     "source": [
      "## What is the output of the following code?"
     ]
    },
    {
     "cell_type": "code",
     "collapsed": false,
     "input": [
      "def reassign(my_list):\n",
      "    my_list = [0, 1]\n",
      "\n",
      "def append(my_list):\n",
      "    my_list.append(1)\n",
      "\n",
      "my_list = [0]\n",
      "reassign(my_list)\n",
      "append(my_list)\n",
      "\n",
      "print(my_list)\n"
     ],
     "language": "python",
     "metadata": {},
     "outputs": []
    },
    {
     "cell_type": "markdown",
     "metadata": {},
     "source": [
      "### Choices:\n",
      "\n",
      "A. [0]  \n",
      "B. [0, 1]  \n",
      "C. [0, 1, 1]"
     ]
    },
    {
     "cell_type": "markdown",
     "metadata": {},
     "source": [
      "## What is the output of the following code?"
     ]
    },
    {
     "cell_type": "code",
     "collapsed": false,
     "input": [
      "listA = [0]\n",
      "listB = listA\n",
      "listB.append(1)\n",
      "print listA"
     ],
     "language": "python",
     "metadata": {},
     "outputs": []
    },
    {
     "cell_type": "markdown",
     "metadata": {},
     "source": [
      "### Choices:\n",
      "\n",
      "A. [0]  \n",
      "B. [1]  \n",
      "C. [0, 1]"
     ]
    },
    {
     "cell_type": "markdown",
     "metadata": {},
     "source": [
      "<img src=\"homer.gif\" style=\"float: right; clear: none; display: block;\"/>\n",
      "## (Dys)functional Programming \n",
      "\n",
      "Homer Simpson says: returning is for suckers!  \n",
      "Don't code like Homer (unless you have a good reason)"
     ]
    },
    {
     "cell_type": "code",
     "collapsed": false,
     "input": [
      "#Anti-Example, do not do this\n",
      "\n",
      "import random\n",
      "import timeit\n",
      "\n",
      "def speed_test1(list):\n",
      "    #Measure the speed of sorting this list via some algorithm\n",
      "    list.sort()\n",
      "    #Note: no return value\n",
      "\n",
      "def speed_test2(list):\n",
      "    #Measure the speed of sorting this list via (possibly) some other algorithm\n",
      "    list.sort()\n",
      "    #Note: no return value\n",
      "\n",
      "test_list = [random.randint(-100,100) for x in range(1000000)]\n",
      "\n",
      "time1 = round(timeit.timeit(\"speed_test1(test_list)\", setup=\"from __main__ import speed_test1, test_list\", number=1),2)\n",
      "\n",
      "time2 = round(timeit.timeit(\"speed_test2(test_list)\", setup=\"from __main__ import speed_test2, test_list\", number=1),2)\n",
      "\n",
      "percent_speedup = int(((time1 - time2) / time1 ) * 100)\n",
      "print('time1: {t1}'.format(t1=time1))\n",
      "print('time2: {t2}'.format(t2=time2))\n",
      "print('speedup: {percent_speedup}%'.format(percent_speedup=percent_speedup))\n",
      "#Wow! The second test is way faster! Great new algorithm! Or is it?"
     ],
     "language": "python",
     "metadata": {},
     "outputs": []
    },
    {
     "cell_type": "code",
     "collapsed": false,
     "input": [
      "#Workaround\n",
      "import copy\n",
      "\n",
      "import random\n",
      "import timeit\n",
      "\n",
      "def speed_test1(list):\n",
      "    #Measure the speed of sorting this list via some algorithm\n",
      "    list.sort()\n",
      "\n",
      "def speed_test2(list):\n",
      "    #Measure the speed of sorting this list via (possibly) some other algorithm\n",
      "    list.sort()\n",
      "\n",
      "test_list1 = [random.randint(-100,100) for x in range(1000000)]\n",
      "test_list2 = copy.copy(test_list1)\n",
      "\n",
      "time1 = round(timeit.timeit(\"speed_test1(test_list1)\", setup=\"from __main__ import speed_test1, test_list1\", number=1),2)\n",
      "time2 = round(timeit.timeit(\"speed_test2(test_list2)\", setup=\"from __main__ import speed_test2, test_list2\", number=1),2)\n",
      "\n",
      "percent_speedup = int(((time1 - time2) / time1 ) * 100)\n",
      "print('time1: {t1}'.format(t1=time1))\n",
      "print('time2: {t2}'.format(t2=time2))\n",
      "print('speedup: {percent_speedup}%'.format(percent_speedup=percent_speedup))"
     ],
     "language": "python",
     "metadata": {},
     "outputs": []
    },
    {
     "cell_type": "markdown",
     "metadata": {},
     "source": [
      "## Immutability"
     ]
    },
    {
     "cell_type": "code",
     "collapsed": false,
     "input": [
      "boy_group = ['Bill']\n",
      "girl_group = ['Hillary']\n",
      "\n",
      "immutable_forever = (boy_group, girl_group) #tuples are *immutable*, damnit\n",
      "\n",
      "\n",
      "\n",
      "# You saw this coming, right?\n",
      "girl_group.append('Monica')\n",
      "\n",
      "print(immutable_forever)"
     ],
     "language": "python",
     "metadata": {},
     "outputs": []
    },
    {
     "cell_type": "markdown",
     "metadata": {},
     "source": [
      "## So is python \"call by reference\" or \"call by value\"?\n",
      "\n",
      "Yes. No. Neither. Both. Some people call it call by value, where the value is a reference to an object. Some people get angry about what other people call it.\n",
      "\n",
      "Other names:\n",
      "* call by object\n",
      "* call by object reference\n",
      "* call by sharing\n",
      "* call by object sharing\n",
      "\n",
      "It's purely semantic and seems to be influenced by a person's previous programming languages."
     ]
    },
    {
     "cell_type": "markdown",
     "metadata": {},
     "source": [
      "## Garbage Collection\n",
      "\n",
      "Relatedly, object reference counting is one of the primary methods used by python garbage collection. Every time an objects is bound to a name, e.g. blah = 'foo', the number of references to object 'foo' are incremented. \"Deleted\" objects or objects that fall out of scope are decremented - if a counter reaches zero the object can actually be removed from memory."
     ]
    },
    {
     "cell_type": "code",
     "collapsed": false,
     "input": [
      "parrot = 'dead' # 1 reference to string object 'dead'\n",
      "description = [ 'dead', 'deceased', 'ex-parrot' ] # 2 references to string object 'dead'\n",
      "parrot = 'pining for the fyords' # 1 reference to string object 'dead'"
     ],
     "language": "python",
     "metadata": {},
     "outputs": []
    },
    {
     "cell_type": "markdown",
     "metadata": {},
     "source": [
      "## References\n",
      "\n",
      "<https://en.wikipedia.org/wiki/Evaluation_strategy>  \n",
      "<http://www.jeffknupp.com/blog/2012/11/13/is-python-callbyvalue-or-callbyreference-neither/>  \n",
      "<http://robertheaton.com/2014/02/09/pythons-pass-by-object-reference-as-explained-by-philip-k-dick/>"
     ]
    }
   ],
   "metadata": {}
  }
 ]
}